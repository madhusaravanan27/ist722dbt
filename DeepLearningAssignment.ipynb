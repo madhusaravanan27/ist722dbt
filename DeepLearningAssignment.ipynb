{
  "nbformat": 4,
  "nbformat_minor": 0,
  "metadata": {
    "colab": {
      "provenance": [],
      "authorship_tag": "ABX9TyO/h+VqhD3E92U0qOceUTM/",
      "include_colab_link": true
    },
    "kernelspec": {
      "name": "python3",
      "display_name": "Python 3"
    },
    "language_info": {
      "name": "python"
    }
  },
  "cells": [
    {
      "cell_type": "markdown",
      "metadata": {
        "id": "view-in-github",
        "colab_type": "text"
      },
      "source": [
        "<a href=\"https://colab.research.google.com/github/madhusaravanan27/ist722dbt/blob/main/DeepLearningAssignment.ipynb\" target=\"_parent\"><img src=\"https://colab.research.google.com/assets/colab-badge.svg\" alt=\"Open In Colab\"/></a>"
      ]
    },
    {
      "cell_type": "code",
      "execution_count": 1,
      "metadata": {
        "colab": {
          "base_uri": "https://localhost:8080/"
        },
        "id": "09UQvi91aKTa",
        "outputId": "19ca2ceb-d87f-4c2c-d74d-889908e7ee8e"
      },
      "outputs": [
        {
          "output_type": "stream",
          "name": "stdout",
          "text": [
            "Downloading data from https://www.cs.toronto.edu/~kriz/cifar-10-python.tar.gz\n",
            "170498071/170498071 [==============================] - 2s 0us/step\n",
            "Epoch 1/100\n",
            "1250/1250 [==============================] - 31s 15ms/step - loss: 1.9946 - accuracy: 0.2382 - val_loss: 1.8969 - val_accuracy: 0.2801\n",
            "Epoch 2/100\n",
            "1250/1250 [==============================] - 18s 14ms/step - loss: 1.8410 - accuracy: 0.3072 - val_loss: 1.8131 - val_accuracy: 0.3296\n",
            "Epoch 3/100\n",
            "1250/1250 [==============================] - 20s 16ms/step - loss: 1.7744 - accuracy: 0.3417 - val_loss: 1.7597 - val_accuracy: 0.3594\n",
            "Epoch 4/100\n",
            "1250/1250 [==============================] - 18s 15ms/step - loss: 1.7174 - accuracy: 0.3758 - val_loss: 1.7086 - val_accuracy: 0.3808\n",
            "Epoch 5/100\n",
            "1250/1250 [==============================] - 18s 15ms/step - loss: 1.6738 - accuracy: 0.3950 - val_loss: 1.6695 - val_accuracy: 0.3923\n",
            "Epoch 6/100\n",
            "1250/1250 [==============================] - 19s 15ms/step - loss: 1.6436 - accuracy: 0.4063 - val_loss: 1.7135 - val_accuracy: 0.3913\n",
            "Epoch 7/100\n",
            "1250/1250 [==============================] - 18s 14ms/step - loss: 1.6166 - accuracy: 0.4151 - val_loss: 1.6605 - val_accuracy: 0.4048\n",
            "Epoch 8/100\n",
            "1250/1250 [==============================] - 20s 16ms/step - loss: 1.5990 - accuracy: 0.4248 - val_loss: 1.6246 - val_accuracy: 0.4230\n",
            "Epoch 9/100\n",
            "1250/1250 [==============================] - 18s 15ms/step - loss: 1.5780 - accuracy: 0.4342 - val_loss: 1.6226 - val_accuracy: 0.4227\n",
            "Epoch 10/100\n",
            "1250/1250 [==============================] - 18s 15ms/step - loss: 1.5603 - accuracy: 0.4381 - val_loss: 1.6838 - val_accuracy: 0.4030\n",
            "Epoch 11/100\n",
            "1250/1250 [==============================] - 19s 16ms/step - loss: 1.5437 - accuracy: 0.4467 - val_loss: 1.6095 - val_accuracy: 0.4269\n",
            "Epoch 12/100\n",
            "1250/1250 [==============================] - 18s 14ms/step - loss: 1.5256 - accuracy: 0.4557 - val_loss: 1.6189 - val_accuracy: 0.4260\n",
            "Epoch 13/100\n",
            "1250/1250 [==============================] - 18s 15ms/step - loss: 1.5068 - accuracy: 0.4623 - val_loss: 1.6017 - val_accuracy: 0.4362\n",
            "Epoch 14/100\n",
            "1250/1250 [==============================] - 19s 16ms/step - loss: 1.4973 - accuracy: 0.4639 - val_loss: 1.6311 - val_accuracy: 0.4374\n",
            "Epoch 15/100\n",
            "1250/1250 [==============================] - 18s 15ms/step - loss: 1.4838 - accuracy: 0.4740 - val_loss: 1.6473 - val_accuracy: 0.4221\n",
            "Epoch 16/100\n",
            "1250/1250 [==============================] - 18s 14ms/step - loss: 1.4679 - accuracy: 0.4757 - val_loss: 1.6540 - val_accuracy: 0.4180\n",
            "Epoch 17/100\n",
            "1250/1250 [==============================] - 19s 16ms/step - loss: 1.4530 - accuracy: 0.4836 - val_loss: 1.6322 - val_accuracy: 0.4279\n",
            "Epoch 18/100\n",
            "1250/1250 [==============================] - 18s 15ms/step - loss: 1.4370 - accuracy: 0.4882 - val_loss: 1.6214 - val_accuracy: 0.4321\n",
            "Epoch 1/100\n",
            "1250/1250 [==============================] - 46s 22ms/step - loss: 2.0065 - accuracy: 0.2656 - val_loss: 1.8395 - val_accuracy: 0.3258\n",
            "Epoch 2/100\n",
            "1250/1250 [==============================] - 26s 21ms/step - loss: 1.7561 - accuracy: 0.3660 - val_loss: 1.7756 - val_accuracy: 0.3560\n",
            "Epoch 3/100\n",
            "1250/1250 [==============================] - 26s 21ms/step - loss: 1.6689 - accuracy: 0.4016 - val_loss: 1.7021 - val_accuracy: 0.3892\n",
            "Epoch 4/100\n",
            "1250/1250 [==============================] - 26s 21ms/step - loss: 1.6103 - accuracy: 0.4293 - val_loss: 1.7768 - val_accuracy: 0.3747\n",
            "Epoch 5/100\n",
            "1250/1250 [==============================] - 28s 22ms/step - loss: 1.5604 - accuracy: 0.4446 - val_loss: 1.6629 - val_accuracy: 0.3983\n",
            "Epoch 6/100\n",
            "1250/1250 [==============================] - 26s 20ms/step - loss: 1.5162 - accuracy: 0.4614 - val_loss: 1.6095 - val_accuracy: 0.4254\n",
            "Epoch 7/100\n",
            "1250/1250 [==============================] - 26s 21ms/step - loss: 1.4645 - accuracy: 0.4775 - val_loss: 1.5141 - val_accuracy: 0.4656\n",
            "Epoch 8/100\n",
            "1250/1250 [==============================] - 29s 23ms/step - loss: 1.4304 - accuracy: 0.4920 - val_loss: 1.5320 - val_accuracy: 0.4531\n",
            "Epoch 9/100\n",
            "1250/1250 [==============================] - 27s 21ms/step - loss: 1.3887 - accuracy: 0.5057 - val_loss: 1.6475 - val_accuracy: 0.4341\n",
            "Epoch 10/100\n",
            "1250/1250 [==============================] - 26s 21ms/step - loss: 1.3563 - accuracy: 0.5177 - val_loss: 1.5128 - val_accuracy: 0.4739\n",
            "Epoch 11/100\n",
            "1250/1250 [==============================] - 27s 21ms/step - loss: 1.3297 - accuracy: 0.5276 - val_loss: 1.6161 - val_accuracy: 0.4282\n",
            "Epoch 12/100\n",
            "1250/1250 [==============================] - 27s 21ms/step - loss: 1.2994 - accuracy: 0.5392 - val_loss: 1.4985 - val_accuracy: 0.4829\n",
            "Epoch 13/100\n",
            "1250/1250 [==============================] - 26s 21ms/step - loss: 1.2679 - accuracy: 0.5523 - val_loss: 1.6067 - val_accuracy: 0.4498\n",
            "Epoch 14/100\n",
            "1250/1250 [==============================] - 26s 21ms/step - loss: 1.2452 - accuracy: 0.5580 - val_loss: 1.7056 - val_accuracy: 0.4369\n",
            "Epoch 15/100\n",
            "1250/1250 [==============================] - 26s 21ms/step - loss: 1.2217 - accuracy: 0.5687 - val_loss: 1.5842 - val_accuracy: 0.4724\n",
            "Epoch 16/100\n",
            "1250/1250 [==============================] - 26s 21ms/step - loss: 1.1974 - accuracy: 0.5754 - val_loss: 1.5666 - val_accuracy: 0.4674\n",
            "Epoch 17/100\n",
            "1250/1250 [==============================] - 27s 21ms/step - loss: 1.1833 - accuracy: 0.5852 - val_loss: 1.4999 - val_accuracy: 0.4818\n",
            "Accuracy without Batch Normalization: 0.4422999918460846\n",
            "Accuracy with Batch Normalization: 0.4763000011444092\n"
          ]
        }
      ],
      "source": [
        "import tensorflow as tf\n",
        "from tensorflow.keras.layers import Dense, BatchNormalization, Activation, Flatten, Input\n",
        "from tensorflow.keras.models import Model\n",
        "from tensorflow.keras.initializers import HeNormal\n",
        "from tensorflow.keras.optimizers import Nadam\n",
        "from tensorflow.keras.callbacks import EarlyStopping\n",
        "from tensorflow.keras.utils import to_categorical\n",
        "(x_train, y_train), (x_test, y_test) = tf.keras.datasets.cifar10.load_data()\n",
        "x_train, x_test = x_train / 255.0, x_test / 255.0\n",
        "y_train, y_test = to_categorical(y_train, 10), to_categorical(y_test, 10)\n",
        "def create_model(use_batch_normalization=False):\n",
        "    inputs = Input(shape=(32, 32, 3))\n",
        "    x = Flatten()(inputs)\n",
        "\n",
        "    for _ in range(20):  # 20 hidden layers\n",
        "        x = Dense(100, kernel_initializer=HeNormal())(x)\n",
        "        if use_batch_normalization:\n",
        "            x = BatchNormalization()(x)\n",
        "        x = Activation('swish')(x)\n",
        "\n",
        "    outputs = Dense(10, activation='softmax')(x)\n",
        "\n",
        "    model = Model(inputs, outputs)\n",
        "    model.compile(optimizer=Nadam(),\n",
        "                  loss='categorical_crossentropy',\n",
        "                  metrics=['accuracy'])\n",
        "    return model\n",
        "model = create_model(use_batch_normalization=False)\n",
        "early_stopping = EarlyStopping(monitor='val_loss', patience=5)\n",
        "model.fit(x_train, y_train, epochs=100, validation_split=0.2, callbacks=[early_stopping], batch_size=32)\n",
        "model_bn = create_model(use_batch_normalization=True)\n",
        "model_bn.fit(x_train, y_train, epochs=100, validation_split=0.2, callbacks=[early_stopping], batch_size=32)\n",
        "accuracy = model.evaluate(x_test, y_test, verbose=0)[1]\n",
        "accuracy_bn = model_bn.evaluate(x_test, y_test, verbose=0)[1]\n",
        "print(\"Accuracy without Batch Normalization:\", accuracy)\n",
        "print(\"Accuracy with Batch Normalization:\", accuracy_bn)\n"
      ]
    }
  ]
}